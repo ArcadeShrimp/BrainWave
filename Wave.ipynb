{
 "cells": [
  {
   "cell_type": "code",
   "execution_count": 8,
   "metadata": {},
   "outputs": [
    {
     "ename": "NameError",
     "evalue": "name 'DataRecord' is not defined",
     "output_type": "error",
     "traceback": [
      "\u001b[1;31m---------------------------------------------------------------------------\u001b[0m",
      "\u001b[1;31mNameError\u001b[0m                                 Traceback (most recent call last)",
      "\u001b[1;32m<ipython-input-8-278683160f63>\u001b[0m in \u001b[0;36m<module>\u001b[1;34m()\u001b[0m\n\u001b[0;32m      6\u001b[0m \u001b[1;32mfrom\u001b[0m \u001b[0mpylsl\u001b[0m \u001b[1;32mimport\u001b[0m \u001b[0mStreamInlet\u001b[0m\u001b[1;33m,\u001b[0m \u001b[0mresolve_byprop\u001b[0m\u001b[1;33m\u001b[0m\u001b[0m\n\u001b[0;32m      7\u001b[0m \u001b[1;32mimport\u001b[0m \u001b[0mwarnings\u001b[0m\u001b[1;33m\u001b[0m\u001b[0m\n\u001b[1;32m----> 8\u001b[1;33m \u001b[1;32mfrom\u001b[0m \u001b[0mpsycho_tracker\u001b[0m \u001b[1;32mimport\u001b[0m \u001b[0mCalibrator\u001b[0m\u001b[1;33m,\u001b[0m \u001b[0mSHIFT_LENGTH\u001b[0m\u001b[1;33m,\u001b[0m \u001b[0mNUM_CHANNELS\u001b[0m\u001b[1;33m,\u001b[0m \u001b[0mEPOCH_LENGTH\u001b[0m\u001b[1;33m,\u001b[0m \u001b[0mOVERLAP_LENGTH\u001b[0m\u001b[1;33m,\u001b[0m \u001b[0mBUFFER_LENGTH\u001b[0m\u001b[1;33m\u001b[0m\u001b[0m\n\u001b[0m\u001b[0;32m      9\u001b[0m \u001b[1;32mimport\u001b[0m \u001b[0mutils\u001b[0m  \u001b[1;31m# Our own utility functions\u001b[0m\u001b[1;33m\u001b[0m\u001b[0m\n\u001b[0;32m     10\u001b[0m \u001b[1;32mfrom\u001b[0m \u001b[0mprocess\u001b[0m \u001b[1;32mimport\u001b[0m \u001b[0mChannelDataProcessor\u001b[0m\u001b[1;33m\u001b[0m\u001b[0m\n",
      "\u001b[1;32m~\\BrainWave\\BrainWave\\psycho_tracker.py\u001b[0m in \u001b[0;36m<module>\u001b[1;34m()\u001b[0m\n\u001b[0;32m     29\u001b[0m \u001b[0mSHIFT_LENGTH\u001b[0m \u001b[1;33m=\u001b[0m \u001b[0mEPOCH_LENGTH\u001b[0m \u001b[1;33m-\u001b[0m \u001b[0mOVERLAP_LENGTH\u001b[0m\u001b[1;33m\u001b[0m\u001b[0m\n\u001b[0;32m     30\u001b[0m \u001b[1;33m\u001b[0m\u001b[0m\n\u001b[1;32m---> 31\u001b[1;33m \u001b[1;32mclass\u001b[0m \u001b[0mCalibrator\u001b[0m\u001b[1;33m:\u001b[0m\u001b[1;33m\u001b[0m\u001b[0m\n\u001b[0m\u001b[0;32m     32\u001b[0m     \"\"\"\n\u001b[0;32m     33\u001b[0m     \u001b[0mTracks\u001b[0m \u001b[0mPsychoPy\u001b[0m \u001b[0mCalibration\u001b[0m \u001b[1;32mand\u001b[0m \u001b[0mMuseLsL\u001b[0m \u001b[0mData\u001b[0m\u001b[1;33m\u001b[0m\u001b[0m\n",
      "\u001b[1;32m~\\BrainWave\\BrainWave\\psycho_tracker.py\u001b[0m in \u001b[0;36mCalibrator\u001b[1;34m()\u001b[0m\n\u001b[0;32m     65\u001b[0m \u001b[1;33m\u001b[0m\u001b[0m\n\u001b[0;32m     66\u001b[0m \u001b[1;33m\u001b[0m\u001b[0m\n\u001b[1;32m---> 67\u001b[1;33m     \u001b[1;32mdef\u001b[0m \u001b[0m_record\u001b[0m\u001b[1;33m(\u001b[0m\u001b[0mself\u001b[0m\u001b[1;33m,\u001b[0m \u001b[0minfo\u001b[0m\u001b[1;33m,\u001b[0m \u001b[0minlet\u001b[0m\u001b[1;33m,\u001b[0m \u001b[0md\u001b[0m\u001b[1;33m:\u001b[0m \u001b[0mDataRecord\u001b[0m\u001b[1;33m)\u001b[0m\u001b[1;33m:\u001b[0m\u001b[1;33m\u001b[0m\u001b[0m\n\u001b[0m\u001b[0;32m     68\u001b[0m         \"\"\"\n\u001b[0;32m     69\u001b[0m \u001b[1;33m\u001b[0m\u001b[0m\n",
      "\u001b[1;31mNameError\u001b[0m: name 'DataRecord' is not defined"
     ]
    }
   ],
   "source": [
    "from muselsl import *\n",
    "import time\n",
    "import numpy as np\n",
    "import serial\n",
    "import matplotlib.pyplot as plt\n",
    "from pylsl import StreamInlet, resolve_byprop\n",
    "import warnings\n",
    "from psycho_tracker import Calibrator, SHIFT_LENGTH, NUM_CHANNELS, EPOCH_LENGTH, OVERLAP_LENGTH, BUFFER_LENGTH\n",
    "import utils  # Our own utility functions\n",
    "from process import ChannelDataProcessor\n",
    "from metrics import *\n",
    "from PsychoPy_Code.PsychoRun import run_psychopy"
   ]
  },
  {
   "cell_type": "code",
   "execution_count": 4,
   "metadata": {
    "scrolled": true
   },
   "outputs": [
    {
     "name": "stdout",
     "output_type": "stream",
     "text": [
      "Looking for an EEG stream...\n",
      "Start acquiring data\n"
     ]
    },
    {
     "ename": "NameError",
     "evalue": "name 'Calibrator' is not defined",
     "output_type": "error",
     "traceback": [
      "\u001b[1;31m---------------------------------------------------------------------------\u001b[0m",
      "\u001b[1;31mNameError\u001b[0m                                 Traceback (most recent call last)",
      "\u001b[1;32m<ipython-input-4-501b90b64e14>\u001b[0m in \u001b[0;36m<module>\u001b[1;34m()\u001b[0m\n\u001b[0;32m     45\u001b[0m \"\"\"\n\u001b[0;32m     46\u001b[0m \u001b[1;33m\u001b[0m\u001b[0m\n\u001b[1;32m---> 47\u001b[1;33m \u001b[0mcal\u001b[0m \u001b[1;33m=\u001b[0m \u001b[0mCalibrator\u001b[0m\u001b[1;33m(\u001b[0m\u001b[0minlet\u001b[0m\u001b[1;33m=\u001b[0m\u001b[0minlet\u001b[0m\u001b[1;33m,\u001b[0m \u001b[0minfo\u001b[0m\u001b[1;33m=\u001b[0m\u001b[0minfo\u001b[0m\u001b[1;33m,\u001b[0m \u001b[0mchannel_index\u001b[0m\u001b[1;33m=\u001b[0m\u001b[0mChannel\u001b[0m\u001b[1;33m.\u001b[0m\u001b[0mFP1\u001b[0m\u001b[1;33m)\u001b[0m\u001b[1;33m\u001b[0m\u001b[0m\n\u001b[0m\u001b[0;32m     48\u001b[0m \u001b[1;33m\u001b[0m\u001b[0m\n\u001b[0;32m     49\u001b[0m \u001b[0mcal\u001b[0m\u001b[1;33m.\u001b[0m\u001b[0mstart_stage\u001b[0m\u001b[1;33m(\u001b[0m\u001b[0mmode\u001b[0m\u001b[1;33m=\u001b[0m\u001b[1;34m'relax'\u001b[0m\u001b[1;33m,\u001b[0m \u001b[0mstage\u001b[0m\u001b[1;33m=\u001b[0m\u001b[1;36m1\u001b[0m\u001b[1;33m)\u001b[0m\u001b[1;33m\u001b[0m\u001b[0m\n",
      "\u001b[1;31mNameError\u001b[0m: name 'Calibrator' is not defined"
     ]
    }
   ],
   "source": [
    "\"\"\"\n",
    "Estimate Relaxation from Band Powers\n",
    "This example shows how to buffer, epoch, and transform EEG data from a single\n",
    "electrode into values for each of the classic frequencies (e.g. alpha, beta, theta)\n",
    "Furthermore, it shows how ratios of the band powers can be used to estimate\n",
    "mental state for neurofeedback.\n",
    "The neurofeedback protocols described here are inspired by\n",
    "*Neurofeedback: A Comprehensive Review on System Design, Methodology and Clinical Applications* by Marzbani et. al\n",
    "Adapted from https://github.com/NeuroTechX/bci-workshop\n",
    "\"\"\"\n",
    "\n",
    "# Handy little enum to make code more readable\n",
    "\n",
    "class Channel:\n",
    "    TP0 = 0\n",
    "    FP1 = 1\n",
    "    FP2 = 2\n",
    "    TP10 = 3\n",
    "    DRL = 4\n",
    "\n",
    "\n",
    "\"\"\" \n",
    "1. CONNECT TO EEG STREAM \n",
    "\"\"\"\n",
    "\n",
    "# Search for active LSL streams\n",
    "\n",
    "print('Looking for an EEG stream...')\n",
    "streams = resolve_byprop('type', 'EEG', timeout=2)\n",
    "if len(streams) == 0:\n",
    "    raise RuntimeError('Can\\'t find EEG stream.')\n",
    "\n",
    "# Set active EEG stream to inlet and apply time correction\n",
    "\n",
    "print(\"Start acquiring data\")\n",
    "inlet = StreamInlet(streams[0], max_chunklen=12)\n",
    "eeg_time_correction = inlet.time_correction()\n",
    "\n",
    "# Get the stream info and description\n",
    "info = inlet.info()\n",
    "description = info.desc()\n",
    "\n",
    "\"\"\"\n",
    "2. Obtain Threshold from PsycoPy \n",
    "\"\"\"\n",
    "\n",
    "cal = Calibrator(inlet=inlet, info=info, channel_index=Channel.FP1)\n",
    "\n",
    "cal.start_stage(mode='relax', stage=1)\n",
    "time.sleep(1)\n",
    "\n",
    "cal.end_stage(mode='relax', stage=1)\n",
    "\n",
    "run_psychopy(cmd=cal)\n",
    "cal.update_stage_threshold()\n",
    "threshold = 0.0223716588909309062\n",
    "print(\"FINAL THRESH\", threshold)\n",
    "\n",
    "\"\"\"\n",
    "3. Record data and wave hand if metric is above threshold.  \n",
    "\n",
    "\"\"\"\n",
    "fs = get_fs(info)\n",
    "# The try/except structure allows to quit the while loop by aborting the\n",
    "# script with <Ctrl-C>\n",
    "print('Press Ctrl-C in the console to break the while loop.')\n",
    "\n",
    "arduinoData = serial.Serial('com3',9600)\n",
    "time.sleep(1)\n",
    "try:\n",
    "    # The following loop acquires data, computes band powers, and calculates neurofeedback metrics based on those band powers\n",
    "    while True:\n",
    "        \"\"\" 3.1 ACQUIRE DATA \"\"\"\n",
    "\n",
    "        # Obtain EEG data from the LSL stream\n",
    "        eeg_data, timestamp = _acquire_eeg_data(inlet)           \n",
    "        c = ChannelDataProcessor(buffer_length=BUFFER_LENGTH, epoch_length=EPOCH_LENGTH,\n",
    "                             overlap_length=OVERLAP_LENGTH, \n",
    "                             shift_length=SHIFT_LENGTH, fs=fs, band_cls=Band)\n",
    "\n",
    "        c.feed_new_data(eeg_data=eeg_data)  # Feed new data generated in the epoch\n",
    "\n",
    "        metrics = [] # should be 4X8 matrix for each sample\n",
    "        for i in range(NUM_CHANNELS):  # Iterate through all separate channels\n",
    "\n",
    "            # Record channel smooth band power\n",
    "            csbp = c.get_channel_smooth_band_powers(i) \n",
    "            # Run calculations on csbp to obtain desired metrics\n",
    "\n",
    "            if i in [1,2,3]:\n",
    "                theta_metric = csbp[1]\n",
    "\n",
    "                metrics.append(theta_metric)\n",
    "                ratios.append(Metrics.beta_protocol(csbp, Band))\n",
    "        metric = np.mean(metrics)  \n",
    "        print(metric)    \n",
    "\n",
    "\n",
    "        if check_positive(_metric=metric, _threshold=threshold): \n",
    "\n",
    "            hand_wave()\n",
    "        else:\n",
    "            hand_stay()\n",
    "\n",
    "except KeyboardInterrupt:\n",
    "    print('Closing!')   \n",
    "arduinoData.close()"
   ]
  },
  {
   "cell_type": "code",
   "execution_count": null,
   "metadata": {},
   "outputs": [],
   "source": []
  }
 ],
 "metadata": {
  "kernelspec": {
   "display_name": "Python 3",
   "language": "python",
   "name": "python3"
  },
  "language_info": {
   "codemirror_mode": {
    "name": "ipython",
    "version": 3
   },
   "file_extension": ".py",
   "mimetype": "text/x-python",
   "name": "python",
   "nbconvert_exporter": "python",
   "pygments_lexer": "ipython3",
   "version": "3.6.5"
  }
 },
 "nbformat": 4,
 "nbformat_minor": 2
}
